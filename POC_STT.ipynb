{
 "cells": [
  {
   "cell_type": "markdown",
   "id": "1b439027",
   "metadata": {},
   "source": [
    "TODO :\n",
    "Implémentation\n",
    "Factory pour wake word et STT\n",
    "Dans les configs : pouvoir configurer le micro, les keywords, models wake word, model STT, le temps d'écoute/enregistrement"
   ]
  },
  {
   "cell_type": "code",
   "execution_count": 2,
   "id": "7a0546fc",
   "metadata": {},
   "outputs": [
    {
     "name": "stdout",
     "output_type": "stream",
     "text": [
      "Requirement already satisfied: sounddevice in e:\\nicolas\\workspace\\poc_glados\\.venv\\lib\\site-packages (0.5.2)\n",
      "Requirement already satisfied: vosk in e:\\nicolas\\workspace\\poc_glados\\.venv\\lib\\site-packages (0.3.45)\n",
      "Requirement already satisfied: pvporcupine in e:\\nicolas\\workspace\\poc_glados\\.venv\\lib\\site-packages (3.0.5)\n",
      "Collecting numpy\n",
      "  Downloading numpy-2.3.2-cp311-cp311-win_amd64.whl.metadata (60 kB)\n",
      "Requirement already satisfied: CFFI>=1.0 in e:\\nicolas\\workspace\\poc_glados\\.venv\\lib\\site-packages (from sounddevice) (1.17.1)\n",
      "Requirement already satisfied: requests in e:\\nicolas\\workspace\\poc_glados\\.venv\\lib\\site-packages (from vosk) (2.32.5)\n",
      "Requirement already satisfied: srt in e:\\nicolas\\workspace\\poc_glados\\.venv\\lib\\site-packages (from vosk) (3.5.3)\n",
      "Requirement already satisfied: tqdm in e:\\nicolas\\workspace\\poc_glados\\.venv\\lib\\site-packages (from vosk) (4.67.1)\n",
      "Requirement already satisfied: websockets in e:\\nicolas\\workspace\\poc_glados\\.venv\\lib\\site-packages (from vosk) (15.0.1)\n",
      "Requirement already satisfied: pycparser in e:\\nicolas\\workspace\\poc_glados\\.venv\\lib\\site-packages (from CFFI>=1.0->sounddevice) (2.22)\n",
      "Requirement already satisfied: charset_normalizer<4,>=2 in e:\\nicolas\\workspace\\poc_glados\\.venv\\lib\\site-packages (from requests->vosk) (3.4.3)\n",
      "Requirement already satisfied: idna<4,>=2.5 in e:\\nicolas\\workspace\\poc_glados\\.venv\\lib\\site-packages (from requests->vosk) (3.10)\n",
      "Requirement already satisfied: urllib3<3,>=1.21.1 in e:\\nicolas\\workspace\\poc_glados\\.venv\\lib\\site-packages (from requests->vosk) (2.5.0)\n",
      "Requirement already satisfied: certifi>=2017.4.17 in e:\\nicolas\\workspace\\poc_glados\\.venv\\lib\\site-packages (from requests->vosk) (2025.8.3)\n",
      "Requirement already satisfied: colorama in e:\\nicolas\\workspace\\poc_glados\\.venv\\lib\\site-packages (from tqdm->vosk) (0.4.6)\n",
      "Downloading numpy-2.3.2-cp311-cp311-win_amd64.whl (13.1 MB)\n",
      "   ---------------------------------------- 0.0/13.1 MB ? eta -:--:--\n",
      "   ---- ----------------------------------- 1.3/13.1 MB 6.7 MB/s eta 0:00:02\n",
      "   -------- ------------------------------- 2.6/13.1 MB 7.2 MB/s eta 0:00:02\n",
      "   ------------ --------------------------- 3.9/13.1 MB 6.9 MB/s eta 0:00:02\n",
      "   ---------------- ----------------------- 5.2/13.1 MB 6.8 MB/s eta 0:00:02\n",
      "   -------------------- ------------------- 6.6/13.1 MB 6.7 MB/s eta 0:00:01\n",
      "   ------------------------ --------------- 8.1/13.1 MB 6.7 MB/s eta 0:00:01\n",
      "   ----------------------------- ---------- 9.7/13.1 MB 6.9 MB/s eta 0:00:01\n",
      "   --------------------------------- ------ 11.0/13.1 MB 6.7 MB/s eta 0:00:01\n",
      "   ------------------------------------- -- 12.3/13.1 MB 6.8 MB/s eta 0:00:01\n",
      "   ---------------------------------------- 13.1/13.1 MB 6.7 MB/s  0:00:01\n",
      "Installing collected packages: numpy\n",
      "Successfully installed numpy-2.3.2\n",
      "Note: you may need to restart the kernel to use updated packages.\n"
     ]
    }
   ],
   "source": [
    "# %sudo apt-get update\n",
    "# %sudo apt-get install python3-pip python3-dev portaudio19-dev\n",
    "%pip install sounddevice vosk pvporcupine numpy\n"
   ]
  },
  {
   "cell_type": "code",
   "execution_count": null,
   "id": "910d62a6",
   "metadata": {},
   "outputs": [
    {
     "name": "stderr",
     "output_type": "stream",
     "text": [
      "'wget' n’est pas reconnu en tant que commande interne\n",
      "ou externe, un programme exécutable ou un fichier de commandes.\n",
      "'unzip' n’est pas reconnu en tant que commande interne\n",
      "ou externe, un programme exécutable ou un fichier de commandes.\n"
     ]
    }
   ],
   "source": [
    "# %wget https://alphacephei.com/vosk/models/vosk-model-small-fr-0.22.zip\n",
    "# %unzip vosk-model-small-fr-0.22.zip\n"
   ]
  },
  {
   "cell_type": "code",
   "execution_count": 7,
   "id": "1bc06d27",
   "metadata": {},
   "outputs": [
    {
     "name": "stdout",
     "output_type": "stream",
     "text": [
      "   0 Microsoft Sound Mapper - Input, MME (2 in, 0 out)\n",
      ">  1 Réseau de microphones (Technolo, MME (4 in, 0 out)\n",
      "   2 Microphone (WO Mic Device), MME (1 in, 0 out)\n",
      "   3 Microphone (Steam Streaming Mic, MME (8 in, 0 out)\n",
      "   4 Microsoft Sound Mapper - Output, MME (0 in, 2 out)\n",
      "<  5 SONY TV (HD Audio Driver for Di, MME (0 in, 2 out)\n",
      "   6 Haut-parleurs (Realtek(R) Audio, MME (0 in, 2 out)\n",
      "   7 Haut-parleurs (Steam Streaming , MME (0 in, 8 out)\n",
      "   8 Haut-parleurs (Steam Streaming , MME (0 in, 8 out)\n",
      "   9 Pilote de capture audio principal, Windows DirectSound (2 in, 0 out)\n",
      "  10 Réseau de microphones (Technologie Intel® Smart Sound pour microphones numériques), Windows DirectSound (4 in, 0 out)\n",
      "  11 Microphone (WO Mic Device), Windows DirectSound (1 in, 0 out)\n",
      "  12 Microphone (Steam Streaming Microphone), Windows DirectSound (8 in, 0 out)\n",
      "  13 Périphérique audio principal, Windows DirectSound (0 in, 2 out)\n",
      "  14 SONY TV (HD Audio Driver for Display Audio), Windows DirectSound (0 in, 2 out)\n",
      "  15 Haut-parleurs (Realtek(R) Audio), Windows DirectSound (0 in, 2 out)\n",
      "  16 Haut-parleurs (Steam Streaming Microphone), Windows DirectSound (0 in, 8 out)\n",
      "  17 Haut-parleurs (Steam Streaming Speakers), Windows DirectSound (0 in, 8 out)\n",
      "  18 SONY TV (HD Audio Driver for Display Audio), Windows WASAPI (0 in, 2 out)\n",
      "  19 Haut-parleurs (Realtek(R) Audio), Windows WASAPI (0 in, 2 out)\n",
      "  20 Haut-parleurs (Steam Streaming Microphone), Windows WASAPI (0 in, 2 out)\n",
      "  21 Haut-parleurs (Steam Streaming Speakers), Windows WASAPI (0 in, 2 out)\n",
      "  22 Microphone (WO Mic Device), Windows WASAPI (1 in, 0 out)\n",
      "  23 Microphone (Steam Streaming Microphone), Windows WASAPI (1 in, 0 out)\n",
      "  24 Réseau de microphones (Technologie Intel® Smart Sound pour microphones numériques), Windows WASAPI (2 in, 0 out)\n",
      "  25 Speakers (Nahimic mirroring Wave Speaker), Windows WDM-KS (0 in, 2 out)\n",
      "  26 Microphone (WO Mic Wave), Windows WDM-KS (1 in, 0 out)\n",
      "  27 Headphones (Realtek HD Audio 2nd output with SST), Windows WDM-KS (0 in, 2 out)\n",
      "  28 Speakers (Realtek HD Audio output with SST), Windows WDM-KS (0 in, 2 out)\n",
      "  29 Mixage stéréo (Realtek HD Audio Stereo input), Windows WDM-KS (2 in, 0 out)\n",
      "  30 Microphone (Realtek HD Audio Mic input), Windows WDM-KS (2 in, 0 out)\n",
      "  31 Microphone (Steam Streaming Microphone Wave), Windows WDM-KS (8 in, 0 out)\n",
      "  32 Speakers (Steam Streaming Microphone Wave), Windows WDM-KS (0 in, 8 out)\n",
      "  33 Speakers (Nahimic Easy Surround), Windows WDM-KS (0 in, 8 out)\n",
      "  34 Input (Steam Streaming Speakers Wave), Windows WDM-KS (8 in, 0 out)\n",
      "  35 Speakers (Steam Streaming Speakers Wave), Windows WDM-KS (0 in, 8 out)\n",
      "  36 Réseau de microphones 1 (), Windows WDM-KS (2 in, 0 out)\n",
      "  37 Réseau de microphones 2 (), Windows WDM-KS (2 in, 0 out)\n",
      "  38 Réseau de microphones 3 (), Windows WDM-KS (4 in, 0 out)\n",
      "  39 SONY TV (ACX HD Audio Speaker), Windows WDM-KS (0 in, 2 out)\n",
      "Default device: [1, 5]\n",
      "Enregistrement 3s...\n",
      "Lecture...\n"
     ]
    }
   ],
   "source": [
    "import sounddevice as sd\n",
    "\n",
    "print(sd.query_devices())  # Liste des périphériques\n",
    "print(\"Default device:\", sd.default.device)\n",
    "\n",
    "# Test simple enregistrement + relecture\n",
    "samplerate = 16000\n",
    "print(\"Enregistrement 3s...\")\n",
    "rec = sd.rec(int(3 * samplerate), samplerate=samplerate, channels=1, dtype='float32')\n",
    "sd.wait()\n",
    "print(\"Lecture...\")\n",
    "sd.play(rec, samplerate)\n",
    "sd.wait()\n"
   ]
  },
  {
   "cell_type": "code",
   "execution_count": 2,
   "id": "ba0928fc",
   "metadata": {},
   "outputs": [
    {
     "name": "stdout",
     "output_type": "stream",
     "text": [
      "Assistant en écoute... (dites 'Jarvis' pour activer)\n",
      "Wake word détecté ! Parlez maintenant...\n",
      "Texte: allume la lumière\n",
      "Wake word détecté ! Parlez maintenant...\n",
      "Texte (partiel): tu vas éteindre la lumière et faire\n"
     ]
    },
    {
     "ename": "KeyboardInterrupt",
     "evalue": "",
     "output_type": "error",
     "traceback": [
      "\u001b[31m---------------------------------------------------------------------------\u001b[39m",
      "\u001b[31mKeyboardInterrupt\u001b[39m                         Traceback (most recent call last)",
      "\u001b[36mCell\u001b[39m\u001b[36m \u001b[39m\u001b[32mIn[2]\u001b[39m\u001b[32m, line 34\u001b[39m\n\u001b[32m     31\u001b[39m pcm_buffer = []\n\u001b[32m     33\u001b[39m \u001b[38;5;28;01mwhile\u001b[39;00m \u001b[38;5;28;01mTrue\u001b[39;00m:\n\u001b[32m---> \u001b[39m\u001b[32m34\u001b[39m     audio = \u001b[43maudio_q\u001b[49m\u001b[43m.\u001b[49m\u001b[43mget\u001b[49m\u001b[43m(\u001b[49m\u001b[43m)\u001b[49m\n\u001b[32m     35\u001b[39m     pcm = (audio.flatten() * \u001b[32m32767\u001b[39m).astype(np.int16)\n\u001b[32m     37\u001b[39m     \u001b[38;5;66;03m# Découpage en frames pour Porcupine\u001b[39;00m\n",
      "\u001b[36mFile \u001b[39m\u001b[32mc:\\Users\\nicol\\AppData\\Local\\Programs\\Python\\Python311\\Lib\\queue.py:171\u001b[39m, in \u001b[36mQueue.get\u001b[39m\u001b[34m(self, block, timeout)\u001b[39m\n\u001b[32m    169\u001b[39m \u001b[38;5;28;01melif\u001b[39;00m timeout \u001b[38;5;129;01mis\u001b[39;00m \u001b[38;5;28;01mNone\u001b[39;00m:\n\u001b[32m    170\u001b[39m     \u001b[38;5;28;01mwhile\u001b[39;00m \u001b[38;5;129;01mnot\u001b[39;00m \u001b[38;5;28mself\u001b[39m._qsize():\n\u001b[32m--> \u001b[39m\u001b[32m171\u001b[39m         \u001b[38;5;28;43mself\u001b[39;49m\u001b[43m.\u001b[49m\u001b[43mnot_empty\u001b[49m\u001b[43m.\u001b[49m\u001b[43mwait\u001b[49m\u001b[43m(\u001b[49m\u001b[43m)\u001b[49m\n\u001b[32m    172\u001b[39m \u001b[38;5;28;01melif\u001b[39;00m timeout < \u001b[32m0\u001b[39m:\n\u001b[32m    173\u001b[39m     \u001b[38;5;28;01mraise\u001b[39;00m \u001b[38;5;167;01mValueError\u001b[39;00m(\u001b[33m\"\u001b[39m\u001b[33m'\u001b[39m\u001b[33mtimeout\u001b[39m\u001b[33m'\u001b[39m\u001b[33m must be a non-negative number\u001b[39m\u001b[33m\"\u001b[39m)\n",
      "\u001b[36mFile \u001b[39m\u001b[32mc:\\Users\\nicol\\AppData\\Local\\Programs\\Python\\Python311\\Lib\\threading.py:320\u001b[39m, in \u001b[36mCondition.wait\u001b[39m\u001b[34m(self, timeout)\u001b[39m\n\u001b[32m    318\u001b[39m \u001b[38;5;28;01mtry\u001b[39;00m:    \u001b[38;5;66;03m# restore state no matter what (e.g., KeyboardInterrupt)\u001b[39;00m\n\u001b[32m    319\u001b[39m     \u001b[38;5;28;01mif\u001b[39;00m timeout \u001b[38;5;129;01mis\u001b[39;00m \u001b[38;5;28;01mNone\u001b[39;00m:\n\u001b[32m--> \u001b[39m\u001b[32m320\u001b[39m         \u001b[43mwaiter\u001b[49m\u001b[43m.\u001b[49m\u001b[43macquire\u001b[49m\u001b[43m(\u001b[49m\u001b[43m)\u001b[49m\n\u001b[32m    321\u001b[39m         gotit = \u001b[38;5;28;01mTrue\u001b[39;00m\n\u001b[32m    322\u001b[39m     \u001b[38;5;28;01melse\u001b[39;00m:\n",
      "\u001b[31mKeyboardInterrupt\u001b[39m: "
     ]
    }
   ],
   "source": [
    "import sounddevice as sd\n",
    "import queue\n",
    "import json\n",
    "import numpy as np\n",
    "import pvporcupine\n",
    "from vosk import Model, KaldiRecognizer\n",
    "\n",
    "# ==== File audio ====\n",
    "audio_q = queue.Queue()\n",
    "\n",
    "def audio_callback(indata, frames, time, status):\n",
    "    if status:\n",
    "        print(status)\n",
    "    audio_q.put(indata.copy())\n",
    "\n",
    "# ==== Init Porcupine (wake word) ====\n",
    "porcupine = pvporcupine.create(\n",
    "    access_key=\"YTZtqOjD4eEEySY1rj2a3+cn2bNg38bJxzET+jn3SE5jpF9eiTx3hA==\",\n",
    "    model_path=\"wake_word_model/porcupine_params_de.pv\",\n",
    "    keyword_paths=[\"wake_words/glados_de_windows_v3_0_0.ppn\"],\n",
    "    # keywords=[\"jarvis\"]\n",
    ")  # Wake word \"Jarvis\"\n",
    "\n",
    "# ==== Init Vosk (STT) ====\n",
    "model = Model(\"vosk-model-small-fr-0.22\")\n",
    "recognizer = KaldiRecognizer(model, 16000)\n",
    "\n",
    "print(\"Assistant en écoute... (dites 'Jarvis' pour activer)\")\n",
    "\n",
    "with sd.InputStream(channels=1, samplerate=16000, callback=audio_callback, blocksize=512):\n",
    "    pcm_buffer = []\n",
    "\n",
    "    while True:\n",
    "        audio = audio_q.get()\n",
    "        pcm = (audio.flatten() * 32767).astype(np.int16)\n",
    "\n",
    "        # Découpage en frames pour Porcupine\n",
    "        for i in range(0, len(pcm), porcupine.frame_length):\n",
    "            frame = pcm[i:i+porcupine.frame_length]\n",
    "            if len(frame) == porcupine.frame_length:\n",
    "                keyword_index = porcupine.process(frame)\n",
    "                if keyword_index >= 0:\n",
    "                    print(\"Wake word détecté ! Parlez maintenant...\")\n",
    "\n",
    "                    # Enregistrer quelques secondes\n",
    "                    rec = sd.rec(int(3 * 16000), samplerate=16000, channels=1, dtype='int16')\n",
    "                    sd.wait()\n",
    "\n",
    "                    # Reconnaissance Vosk\n",
    "                    if recognizer.AcceptWaveform(rec.tobytes()):\n",
    "                        result = json.loads(recognizer.Result())\n",
    "                        print(\"Texte:\", result.get(\"text\", \"\"))\n",
    "                    else:\n",
    "                        partial = json.loads(recognizer.PartialResult())\n",
    "                        print(\"Texte (partiel):\", partial.get(\"partial\", \"\"))\n"
   ]
  },
  {
   "cell_type": "code",
   "execution_count": null,
   "id": "6bc24e61",
   "metadata": {},
   "outputs": [
    {
     "name": "stdout",
     "output_type": "stream",
     "text": [
      "Assistant en écoute... (dites 'Jarvis' pour activer)\n",
      "Wake word détecté ! Parlez maintenant...\n",
      "Wake word détecté ! Parlez maintenant...\n",
      "Texte: allume la lumière\n",
      "Texte: allume la lumière\n",
      "Wake word détecté ! Parlez maintenant...\n",
      "Wake word détecté ! Parlez maintenant...\n",
      "Texte: au faite\n",
      "Texte: au faite\n",
      "Wake word détecté ! Parlez maintenant...\n",
      "Wake word détecté ! Parlez maintenant...\n",
      "Texte: allume la lumière\n",
      "Texte: allume la lumière\n",
      "Wake word détecté ! Parlez maintenant...\n",
      "Wake word détecté ! Parlez maintenant...\n",
      "Texte: faites un coup\n",
      "Texte: faites un coup\n",
      "Wake word détecté ! Parlez maintenant...\n",
      "Wake word détecté ! Parlez maintenant...\n",
      "Texte: allume la lumière\n",
      "Texte: allume la lumière\n",
      "Wake word détecté ! Parlez maintenant...\n",
      "Wake word détecté ! Parlez maintenant...\n",
      "Texte: pete un coup\n",
      "Texte: pete un coup\n"
     ]
    },
    {
     "ename": "KeyboardInterrupt",
     "evalue": "",
     "output_type": "error",
     "traceback": [
      "\u001b[31m---------------------------------------------------------------------------\u001b[39m",
      "\u001b[31mKeyboardInterrupt\u001b[39m                         Traceback (most recent call last)",
      "\u001b[36mCell\u001b[39m\u001b[36m \u001b[39m\u001b[32mIn[6]\u001b[39m\u001b[32m, line 13\u001b[39m\n\u001b[32m     11\u001b[39m \u001b[38;5;28;01mwith\u001b[39;00m sd.InputStream(channels=\u001b[32m1\u001b[39m, samplerate=\u001b[32m16000\u001b[39m, callback=audio_callback, blocksize=\u001b[32m512\u001b[39m):\n\u001b[32m     12\u001b[39m     \u001b[38;5;28;01mwhile\u001b[39;00m \u001b[38;5;28;01mTrue\u001b[39;00m:\n\u001b[32m---> \u001b[39m\u001b[32m13\u001b[39m         audio = \u001b[43maudio_q\u001b[49m\u001b[43m.\u001b[49m\u001b[43mget\u001b[49m\u001b[43m(\u001b[49m\u001b[43m)\u001b[49m\n\u001b[32m     14\u001b[39m         pcm = (audio.flatten() * \u001b[32m32767\u001b[39m).astype(np.int16)\n\u001b[32m     15\u001b[39m         \u001b[38;5;28;01mfor\u001b[39;00m i \u001b[38;5;129;01min\u001b[39;00m \u001b[38;5;28mrange\u001b[39m(\u001b[32m0\u001b[39m, \u001b[38;5;28mlen\u001b[39m(pcm), porcupine.frame_length):\n",
      "\u001b[36mFile \u001b[39m\u001b[32mc:\\Users\\nicol\\AppData\\Local\\Programs\\Python\\Python311\\Lib\\queue.py:171\u001b[39m, in \u001b[36mQueue.get\u001b[39m\u001b[34m(self, block, timeout)\u001b[39m\n\u001b[32m    169\u001b[39m \u001b[38;5;28;01melif\u001b[39;00m timeout \u001b[38;5;129;01mis\u001b[39;00m \u001b[38;5;28;01mNone\u001b[39;00m:\n\u001b[32m    170\u001b[39m     \u001b[38;5;28;01mwhile\u001b[39;00m \u001b[38;5;129;01mnot\u001b[39;00m \u001b[38;5;28mself\u001b[39m._qsize():\n\u001b[32m--> \u001b[39m\u001b[32m171\u001b[39m         \u001b[38;5;28;43mself\u001b[39;49m\u001b[43m.\u001b[49m\u001b[43mnot_empty\u001b[49m\u001b[43m.\u001b[49m\u001b[43mwait\u001b[49m\u001b[43m(\u001b[49m\u001b[43m)\u001b[49m\n\u001b[32m    172\u001b[39m \u001b[38;5;28;01melif\u001b[39;00m timeout < \u001b[32m0\u001b[39m:\n\u001b[32m    173\u001b[39m     \u001b[38;5;28;01mraise\u001b[39;00m \u001b[38;5;167;01mValueError\u001b[39;00m(\u001b[33m\"\u001b[39m\u001b[33m'\u001b[39m\u001b[33mtimeout\u001b[39m\u001b[33m'\u001b[39m\u001b[33m must be a non-negative number\u001b[39m\u001b[33m\"\u001b[39m)\n",
      "\u001b[36mFile \u001b[39m\u001b[32mc:\\Users\\nicol\\AppData\\Local\\Programs\\Python\\Python311\\Lib\\threading.py:320\u001b[39m, in \u001b[36mCondition.wait\u001b[39m\u001b[34m(self, timeout)\u001b[39m\n\u001b[32m    318\u001b[39m \u001b[38;5;28;01mtry\u001b[39;00m:    \u001b[38;5;66;03m# restore state no matter what (e.g., KeyboardInterrupt)\u001b[39;00m\n\u001b[32m    319\u001b[39m     \u001b[38;5;28;01mif\u001b[39;00m timeout \u001b[38;5;129;01mis\u001b[39;00m \u001b[38;5;28;01mNone\u001b[39;00m:\n\u001b[32m--> \u001b[39m\u001b[32m320\u001b[39m         \u001b[43mwaiter\u001b[49m\u001b[43m.\u001b[49m\u001b[43macquire\u001b[49m\u001b[43m(\u001b[49m\u001b[43m)\u001b[49m\n\u001b[32m    321\u001b[39m         gotit = \u001b[38;5;28;01mTrue\u001b[39;00m\n\u001b[32m    322\u001b[39m     \u001b[38;5;28;01melse\u001b[39;00m:\n",
      "\u001b[31mKeyboardInterrupt\u001b[39m: "
     ]
    }
   ],
   "source": [
    "# Variante : détection de fin de phrase (silence) pour capter la phrase entière sans doublon\n",
    "import time\n",
    "def detect_silence(audio, threshold=500):\n",
    "    # audio: numpy array int16\n",
    "    # Retourne True si silence détecté\n",
    "    energy = np.abs(audio).mean()\n",
    "    return energy < threshold\n",
    "\n",
    "print(\"Assistant en écoute... (dites 'Jarvis' pour activer)\")\n",
    "min_silence_len = 1  # durée minimale de silence (en secondes) pour arrêter l'écoute\n",
    "with sd.InputStream(channels=1, samplerate=16000, callback=audio_callback, blocksize=512):\n",
    "    listening = False\n",
    "    while True:\n",
    "        audio = audio_q.get()\n",
    "        pcm = (audio.flatten() * 32767).astype(np.int16)\n",
    "        if not listening:\n",
    "            for i in range(0, len(pcm), porcupine.frame_length):\n",
    "                frame = pcm[i:i+porcupine.frame_length]\n",
    "                if len(frame) == porcupine.frame_length:\n",
    "                    keyword_index = porcupine.process(frame)\n",
    "                    if keyword_index >= 0:\n",
    "                        print(\"Wake word détecté ! Parlez maintenant...\")\n",
    "                        listening = True\n",
    "                        frames = []\n",
    "                        start_time = time.time()\n",
    "                        max_duration = 8  # secondes max d'écoute\n",
    "                        silence_count = 0\n",
    "                        silence_frames = int((min_silence_len * 16000) // 512)\n",
    "                        break\n",
    "        if listening:\n",
    "            # On écoute jusqu'à la fin de phrase (silence ou durée max)\n",
    "            while True:\n",
    "                audio = audio_q.get()\n",
    "                frames.append(audio)\n",
    "                pcm = (audio.flatten() * 32767).astype(np.int16)\n",
    "                recognizer.AcceptWaveform(pcm.tobytes())\n",
    "                if detect_silence(pcm):\n",
    "                    silence_count += 1\n",
    "                else:\n",
    "                    silence_count = 0\n",
    "                if silence_count >= silence_frames or (time.time() - start_time > max_duration):\n",
    "                    break\n",
    "            result = json.loads(recognizer.Result())\n",
    "            print(\"Texte:\", result.get(\"text\", \"\"))\n",
    "            listening = False"
   ]
  }
 ],
 "metadata": {
  "kernelspec": {
   "display_name": ".venv",
   "language": "python",
   "name": "python3"
  },
  "language_info": {
   "codemirror_mode": {
    "name": "ipython",
    "version": 3
   },
   "file_extension": ".py",
   "mimetype": "text/x-python",
   "name": "python",
   "nbconvert_exporter": "python",
   "pygments_lexer": "ipython3",
   "version": "3.11.4"
  }
 },
 "nbformat": 4,
 "nbformat_minor": 5
}
